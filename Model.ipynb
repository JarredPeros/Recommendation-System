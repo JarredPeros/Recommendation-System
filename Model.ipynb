{
 "cells": [
  {
   "cell_type": "code",
   "execution_count": null,
   "id": "dd9ceb1f-3961-4333-985b-74f1551df196",
   "metadata": {},
   "outputs": [],
   "source": [
    "import pandas as pd\n",
    "import numpy as np\n",
    "from sklearn.feature_extraction.text import CountVectorizer\n",
    "from sklearn.metrics.pairwise import cosine_similarity\n",
    "\n",
    "df = pd.read_csv(\"book_data.csv\")"
   ]
  },
  {
   "cell_type": "code",
   "execution_count": null,
   "id": "9318e206-71fe-47f9-9c19-6ad8e4c4e1e4",
   "metadata": {},
   "outputs": [],
   "source": []
  },
  {
   "cell_type": "code",
   "execution_count": null,
   "id": "187b5fad-802f-47d7-aa3c-70b74e6d6c95",
   "metadata": {},
   "outputs": [],
   "source": [
    "df['genre'] = df['genre'].str.replace(',', ' ')"
   ]
  },
  {
   "cell_type": "code",
   "execution_count": null,
   "id": "f490f1bb-aa69-47b9-9c38-19f7b5bd04d5",
   "metadata": {},
   "outputs": [],
   "source": [
    "features = ['author','genre']\n",
    "ratings = ['rating', 'totalratings']"
   ]
  },
  {
   "cell_type": "code",
   "execution_count": null,
   "id": "0a6ebf71-a4bb-4e51-936f-8f043b9e7dd8",
   "metadata": {},
   "outputs": [],
   "source": [
    "def combine_features(row):\n",
    "    return row['author']+\" \"+row['genre']\n",
    "def combine_ratings(row):\n",
    "    return str(row['rating']) + \" \" + str(row['totalratings'])"
   ]
  },
  {
   "cell_type": "code",
   "execution_count": null,
   "id": "f8bb4508-5c18-4e2b-a3e9-21c7699cde7b",
   "metadata": {},
   "outputs": [],
   "source": [
    "for feature in features:\n",
    "    df[feature] = df[feature].fillna('') #filling all NaNs with blank string\n",
    "for rating in features:\n",
    "    df[ratings] = df[ratings].fillna('') #filling all NaNs with blank string\n",
    "df[\"combined_features\"] = df.apply(combine_features,axis=1) \n",
    "df[\"combined_ratings\"] = df.apply(combine_ratings,axis=1)"
   ]
  },
  {
   "cell_type": "code",
   "execution_count": null,
   "id": "ebf67de1-e154-4bc5-acac-479932aee851",
   "metadata": {},
   "outputs": [],
   "source": [
    "cv1 = CountVectorizer() #creating new CountVectorizer() object\n",
    "count_matrix1 = cv1.fit_transform(df[\"combined_features\"])\n",
    "cv2 = CountVectorizer() #creating new CountVectorizer() object\n",
    "count_matrix2 = cv2.fit_transform(df[\"combined_ratings\"])"
   ]
  },
  {
   "cell_type": "code",
   "execution_count": null,
   "id": "4c257c3e-036f-491e-aa00-0e838ae7ec2b",
   "metadata": {},
   "outputs": [],
   "source": [
    "cosine_sim1 = cosine_similarity(count_matrix1)\n",
    "cosine_sim2 = cosine_similarity(count_matrix2)"
   ]
  },
  {
   "cell_type": "code",
   "execution_count": null,
   "id": "38bb732b-a625-4a18-a1b4-321f91e5730b",
   "metadata": {},
   "outputs": [],
   "source": [
    "def get_title_from_index(index):\n",
    "    return df[df.index == index][\"title\"].values[0]\n",
    "def get_index_from_title(title):\n",
    "    return df[df.title == title][\"index\"].values[0]"
   ]
  },
  {
   "cell_type": "code",
   "execution_count": null,
   "id": "c9adebcd-ab9b-446c-907b-2e7d5c5474b2",
   "metadata": {},
   "outputs": [],
   "source": [
    "# Function to get the index of the book title\n",
    "def get_index_from_title(title):\n",
    "    return data[data.title == title].index[0]\n",
    "\n",
    "# Prompt the user to enter a book they like\n",
    "#book_user_likes = input(\"Enter a book you like: \")\n",
    "book_user_likes = \"\"\n",
    "\n",
    "# Get the index of the book in the dataset\n",
    "book_index = get_index_from_title(book_user_likes)\n",
    "\n",
    "# Calculate the cosine similarity scores for the input book\n",
    "similar_books = list(enumerate(cosine_sim[book_index]))\n"
   ]
  },
  {
   "cell_type": "code",
   "execution_count": null,
   "id": "50ec8f74-3e1f-40b0-8f3e-89537c8eb3df",
   "metadata": {},
   "outputs": [],
   "source": [
    "sorted_similar_books = sorted(similar_books,key=lambda x:x[1],reverse=True)[1:6]\n",
    "\n"
   ]
  },
  {
   "cell_type": "code",
   "execution_count": null,
   "id": "52aa5e4e-6e5b-4ba6-8ac3-e4e702c8dc3d",
   "metadata": {},
   "outputs": [],
   "source": [
    "i=0\n",
    "print(\"Top 10 similar books to \"+book_user_likes+\" are:\\n\")\n",
    "for element in sorted_similar_books:\n",
    "    print(get_title_from_index(element[0]))\n",
    "    i=i+1\n",
    "    if i>10:\n",
    "        break"
   ]
  },
  {
   "cell_type": "code",
   "execution_count": null,
   "id": "9b3deb97-7b66-4620-ae83-69aa6400362a",
   "metadata": {},
   "outputs": [],
   "source": []
  },
  {
   "cell_type": "code",
   "execution_count": null,
   "id": "8966a30b-2461-44d0-a8dd-870511d63f71",
   "metadata": {},
   "outputs": [],
   "source": []
  }
 ],
 "metadata": {
  "kernelspec": {
   "display_name": "Python 3 (ipykernel)",
   "language": "python",
   "name": "python3"
  },
  "language_info": {
   "codemirror_mode": {
    "name": "ipython",
    "version": 3
   },
   "file_extension": ".py",
   "mimetype": "text/x-python",
   "name": "python",
   "nbconvert_exporter": "python",
   "pygments_lexer": "ipython3",
   "version": "3.10.4"
  }
 },
 "nbformat": 4,
 "nbformat_minor": 5
}
