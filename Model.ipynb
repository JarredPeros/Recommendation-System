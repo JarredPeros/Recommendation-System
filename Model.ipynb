{
 "cells": [
  {
   "cell_type": "code",
   "execution_count": 1,
   "id": "dd9ceb1f-3961-4333-985b-74f1551df196",
   "metadata": {},
   "outputs": [],
   "source": [
    "import pandas as pd\n",
    "import numpy as np\n",
    "from sklearn.feature_extraction.text import CountVectorizer\n",
    "from sklearn.metrics.pairwise import cosine_similarity\n",
    "\n",
    "df = pd.read_csv(\"data.csv\")"
   ]
  },
  {
   "cell_type": "code",
   "execution_count": null,
   "id": "9318e206-71fe-47f9-9c19-6ad8e4c4e1e4",
   "metadata": {},
   "outputs": [],
   "source": []
  },
  {
   "cell_type": "code",
   "execution_count": 7,
   "id": "187b5fad-802f-47d7-aa3c-70b74e6d6c95",
   "metadata": {
    "scrolled": true
   },
   "outputs": [],
   "source": [
    "df['categories'] = df['categories'].str.replace(',', ' ')"
   ]
  },
  {
   "cell_type": "code",
   "execution_count": 8,
   "id": "f490f1bb-aa69-47b9-9c38-19f7b5bd04d5",
   "metadata": {},
   "outputs": [],
   "source": [
    "features = ['authors','categories', 'description']\n",
    "ratings = ['average_rating']"
   ]
  },
  {
   "cell_type": "code",
   "execution_count": 10,
   "id": "0a6ebf71-a4bb-4e51-936f-8f043b9e7dd8",
   "metadata": {},
   "outputs": [],
   "source": [
    "def combine_features(row):\n",
    "    return row['authors']+\" \"+row['categories']"
   ]
  },
  {
   "cell_type": "code",
   "execution_count": 11,
   "id": "f8bb4508-5c18-4e2b-a3e9-21c7699cde7b",
   "metadata": {},
   "outputs": [],
   "source": [
    "for feature in features:\n",
    "    df[feature] = df[feature].fillna('') #filling all NaNs with blank string\n",
    "for rating in features:\n",
    "    df[ratings] = df[ratings].fillna('') #filling all NaNs with blank string\n",
    "df[\"combined_features\"] = df.apply(combine_features,axis=1) \n",
    "df[\"ratings\"] = df.apply(ratings,axis=1)"
   ]
  },
  {
   "cell_type": "code",
   "execution_count": 14,
   "id": "ebf67de1-e154-4bc5-acac-479932aee851",
   "metadata": {},
   "outputs": [],
   "source": [
    "cv1 = CountVectorizer() #creating new CountVectorizer() object\n",
    "count_matrix1 = cv1.fit_transform(df[\"combined_features\"])\n",
    "#cv2 = CountVectorizer() #creating new CountVectorizer() object\n",
    "#count_matrix2 = cv2.fit_transform(df[\"ratings\"])"
   ]
  },
  {
   "cell_type": "code",
   "execution_count": 15,
   "id": "95b36626-eb35-4984-a52a-f16f37d6af78",
   "metadata": {},
   "outputs": [
    {
     "data": {
      "text/html": [
       "<div>\n",
       "<style scoped>\n",
       "    .dataframe tbody tr th:only-of-type {\n",
       "        vertical-align: middle;\n",
       "    }\n",
       "\n",
       "    .dataframe tbody tr th {\n",
       "        vertical-align: top;\n",
       "    }\n",
       "\n",
       "    .dataframe thead th {\n",
       "        text-align: right;\n",
       "    }\n",
       "</style>\n",
       "<table border=\"1\" class=\"dataframe\">\n",
       "  <thead>\n",
       "    <tr style=\"text-align: right;\">\n",
       "      <th></th>\n",
       "      <th>isbn13</th>\n",
       "      <th>isbn10</th>\n",
       "      <th>title</th>\n",
       "      <th>subtitle</th>\n",
       "      <th>authors</th>\n",
       "      <th>categories</th>\n",
       "      <th>thumbnail</th>\n",
       "      <th>description</th>\n",
       "      <th>published_year</th>\n",
       "      <th>average_rating</th>\n",
       "      <th>num_pages</th>\n",
       "      <th>ratings_count</th>\n",
       "      <th>combined_features</th>\n",
       "      <th>ratings</th>\n",
       "    </tr>\n",
       "  </thead>\n",
       "  <tbody>\n",
       "    <tr>\n",
       "      <th>0</th>\n",
       "      <td>9780002005883</td>\n",
       "      <td>0002005883</td>\n",
       "      <td>Gilead</td>\n",
       "      <td>NaN</td>\n",
       "      <td>Marilynne Robinson</td>\n",
       "      <td>Fiction</td>\n",
       "      <td>http://books.google.com/books/content?id=KQZCP...</td>\n",
       "      <td>A NOVEL THAT READERS and critics have been eag...</td>\n",
       "      <td>2004.0</td>\n",
       "      <td>3.85</td>\n",
       "      <td>247.0</td>\n",
       "      <td>361.0</td>\n",
       "      <td>Marilynne Robinson Fiction</td>\n",
       "      <td>3.85</td>\n",
       "    </tr>\n",
       "    <tr>\n",
       "      <th>1</th>\n",
       "      <td>9780002261982</td>\n",
       "      <td>0002261987</td>\n",
       "      <td>Spider's Web</td>\n",
       "      <td>A Novel</td>\n",
       "      <td>Charles Osborne;Agatha Christie</td>\n",
       "      <td>Detective and mystery stories</td>\n",
       "      <td>http://books.google.com/books/content?id=gA5GP...</td>\n",
       "      <td>A new 'Christie for Christmas' -- a full-lengt...</td>\n",
       "      <td>2000.0</td>\n",
       "      <td>3.83</td>\n",
       "      <td>241.0</td>\n",
       "      <td>5164.0</td>\n",
       "      <td>Charles Osborne;Agatha Christie Detective and ...</td>\n",
       "      <td>3.83</td>\n",
       "    </tr>\n",
       "    <tr>\n",
       "      <th>2</th>\n",
       "      <td>9780006163831</td>\n",
       "      <td>0006163831</td>\n",
       "      <td>The One Tree</td>\n",
       "      <td>NaN</td>\n",
       "      <td>Stephen R. Donaldson</td>\n",
       "      <td>American fiction</td>\n",
       "      <td>http://books.google.com/books/content?id=OmQaw...</td>\n",
       "      <td>Volume Two of Stephen Donaldson's acclaimed se...</td>\n",
       "      <td>1982.0</td>\n",
       "      <td>3.97</td>\n",
       "      <td>479.0</td>\n",
       "      <td>172.0</td>\n",
       "      <td>Stephen R. Donaldson American fiction</td>\n",
       "      <td>3.97</td>\n",
       "    </tr>\n",
       "    <tr>\n",
       "      <th>3</th>\n",
       "      <td>9780006178736</td>\n",
       "      <td>0006178731</td>\n",
       "      <td>Rage of angels</td>\n",
       "      <td>NaN</td>\n",
       "      <td>Sidney Sheldon</td>\n",
       "      <td>Fiction</td>\n",
       "      <td>http://books.google.com/books/content?id=FKo2T...</td>\n",
       "      <td>A memorable, mesmerizing heroine Jennifer -- b...</td>\n",
       "      <td>1993.0</td>\n",
       "      <td>3.93</td>\n",
       "      <td>512.0</td>\n",
       "      <td>29532.0</td>\n",
       "      <td>Sidney Sheldon Fiction</td>\n",
       "      <td>3.93</td>\n",
       "    </tr>\n",
       "    <tr>\n",
       "      <th>4</th>\n",
       "      <td>9780006280897</td>\n",
       "      <td>0006280897</td>\n",
       "      <td>The Four Loves</td>\n",
       "      <td>NaN</td>\n",
       "      <td>Clive Staples Lewis</td>\n",
       "      <td>Christian life</td>\n",
       "      <td>http://books.google.com/books/content?id=XhQ5X...</td>\n",
       "      <td>Lewis' work on the nature of love divides love...</td>\n",
       "      <td>2002.0</td>\n",
       "      <td>4.15</td>\n",
       "      <td>170.0</td>\n",
       "      <td>33684.0</td>\n",
       "      <td>Clive Staples Lewis Christian life</td>\n",
       "      <td>4.15</td>\n",
       "    </tr>\n",
       "  </tbody>\n",
       "</table>\n",
       "</div>"
      ],
      "text/plain": [
       "          isbn13      isbn10           title subtitle  \\\n",
       "0  9780002005883  0002005883          Gilead      NaN   \n",
       "1  9780002261982  0002261987    Spider's Web  A Novel   \n",
       "2  9780006163831  0006163831    The One Tree      NaN   \n",
       "3  9780006178736  0006178731  Rage of angels      NaN   \n",
       "4  9780006280897  0006280897  The Four Loves      NaN   \n",
       "\n",
       "                           authors                     categories  \\\n",
       "0               Marilynne Robinson                        Fiction   \n",
       "1  Charles Osborne;Agatha Christie  Detective and mystery stories   \n",
       "2             Stephen R. Donaldson               American fiction   \n",
       "3                   Sidney Sheldon                        Fiction   \n",
       "4              Clive Staples Lewis                 Christian life   \n",
       "\n",
       "                                           thumbnail  \\\n",
       "0  http://books.google.com/books/content?id=KQZCP...   \n",
       "1  http://books.google.com/books/content?id=gA5GP...   \n",
       "2  http://books.google.com/books/content?id=OmQaw...   \n",
       "3  http://books.google.com/books/content?id=FKo2T...   \n",
       "4  http://books.google.com/books/content?id=XhQ5X...   \n",
       "\n",
       "                                         description  published_year  \\\n",
       "0  A NOVEL THAT READERS and critics have been eag...          2004.0   \n",
       "1  A new 'Christie for Christmas' -- a full-lengt...          2000.0   \n",
       "2  Volume Two of Stephen Donaldson's acclaimed se...          1982.0   \n",
       "3  A memorable, mesmerizing heroine Jennifer -- b...          1993.0   \n",
       "4  Lewis' work on the nature of love divides love...          2002.0   \n",
       "\n",
       "  average_rating  num_pages  ratings_count  \\\n",
       "0           3.85      247.0          361.0   \n",
       "1           3.83      241.0         5164.0   \n",
       "2           3.97      479.0          172.0   \n",
       "3           3.93      512.0        29532.0   \n",
       "4           4.15      170.0        33684.0   \n",
       "\n",
       "                                   combined_features ratings  \n",
       "0                         Marilynne Robinson Fiction    3.85  \n",
       "1  Charles Osborne;Agatha Christie Detective and ...    3.83  \n",
       "2              Stephen R. Donaldson American fiction    3.97  \n",
       "3                             Sidney Sheldon Fiction    3.93  \n",
       "4                 Clive Staples Lewis Christian life    4.15  "
      ]
     },
     "execution_count": 15,
     "metadata": {},
     "output_type": "execute_result"
    }
   ],
   "source": [
    "df.head()"
   ]
  },
  {
   "cell_type": "code",
   "execution_count": 16,
   "id": "4c257c3e-036f-491e-aa00-0e838ae7ec2b",
   "metadata": {},
   "outputs": [],
   "source": [
    "cosine_sim1 = cosine_similarity(count_matrix1)\n",
    "#cosine_sim2 = cosine_similarity(count_matrix2)"
   ]
  },
  {
   "cell_type": "code",
   "execution_count": 17,
   "id": "38bb732b-a625-4a18-a1b4-321f91e5730b",
   "metadata": {},
   "outputs": [],
   "source": [
    "def get_title_from_index(index):\n",
    "    return df[df.index == index][\"title\"].values[0]\n",
    "def get_index_from_title(title):\n",
    "    return df[df.title == title][\"index\"].values[0]"
   ]
  },
  {
   "cell_type": "code",
   "execution_count": 28,
   "id": "c9adebcd-ab9b-446c-907b-2e7d5c5474b2",
   "metadata": {},
   "outputs": [
    {
     "name": "stdin",
     "output_type": "stream",
     "text": [
      "Enter a book you like:  Master of the Game\n"
     ]
    }
   ],
   "source": [
    "# Function to get the index of the book title\n",
    "def get_index_from_title(title):\n",
    "    return df[df.title == title].index[0]\n",
    "\n",
    "# Prompt the user to enter a book they like\n",
    "book_user_likes = input(\"Enter a book you like: \")\n",
    "#book_user_likes = \"The One Tree\"\n",
    "\n",
    "# Get the index of the book in the dataset\n",
    "book_index = get_index_from_title(book_user_likes)\n",
    "\n",
    "# Calculate the cosine similarity scores for the input book\n",
    "similar_books = list(enumerate(cosine_sim1[book_index]))\n"
   ]
  },
  {
   "cell_type": "code",
   "execution_count": 29,
   "id": "50ec8f74-3e1f-40b0-8f3e-89537c8eb3df",
   "metadata": {},
   "outputs": [],
   "source": [
    "sorted_similar_books = sorted(similar_books,key=lambda x:x[1],reverse=True)[1:11]\n",
    "\n"
   ]
  },
  {
   "cell_type": "code",
   "execution_count": 30,
   "id": "52aa5e4e-6e5b-4ba6-8ac3-e4e702c8dc3d",
   "metadata": {},
   "outputs": [
    {
     "name": "stdout",
     "output_type": "stream",
     "text": [
      "Top 10 similar books to Master of the Game are:\n",
      "\n",
      "If Tomorrow Comes\n",
      "Rage of angels\n",
      "Nothing Lasts Forever\n",
      "Tell Me Your Dreams\n",
      "The Sky Is Falling\n",
      "A Man Betrayed\n",
      "The Reverse of the Medal\n",
      "Oh, the Places You'll Go!\n",
      "Illusions\n",
      "Airframe\n"
     ]
    }
   ],
   "source": [
    "i=0\n",
    "print(\"Top 10 similar books to \"+book_user_likes+\" are:\\n\")\n",
    "for element in sorted_similar_books:\n",
    "    print(get_title_from_index(element[0]))\n",
    "    i=i+1\n",
    "    if i>10:\n",
    "        break"
   ]
  },
  {
   "cell_type": "code",
   "execution_count": null,
   "id": "9b3deb97-7b66-4620-ae83-69aa6400362a",
   "metadata": {},
   "outputs": [],
   "source": []
  },
  {
   "cell_type": "code",
   "execution_count": null,
   "id": "8966a30b-2461-44d0-a8dd-870511d63f71",
   "metadata": {},
   "outputs": [],
   "source": []
  }
 ],
 "metadata": {
  "kernelspec": {
   "display_name": "Python 3 (ipykernel)",
   "language": "python",
   "name": "python3"
  },
  "language_info": {
   "codemirror_mode": {
    "name": "ipython",
    "version": 3
   },
   "file_extension": ".py",
   "mimetype": "text/x-python",
   "name": "python",
   "nbconvert_exporter": "python",
   "pygments_lexer": "ipython3",
   "version": "3.10.4"
  }
 },
 "nbformat": 4,
 "nbformat_minor": 5
}
